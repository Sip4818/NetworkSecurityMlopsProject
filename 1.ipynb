{
 "cells": [
  {
   "cell_type": "code",
   "execution_count": 1,
   "id": "f84520cf",
   "metadata": {},
   "outputs": [],
   "source": [
    "import pandas as pd\n",
    "import json"
   ]
  },
  {
   "cell_type": "code",
   "execution_count": 4,
   "id": "3d6e04b2",
   "metadata": {},
   "outputs": [],
   "source": [
    "data=pd.read_csv(r\"D:\\data science and AI\\2. MLOPS COURSE BY KRISH\\15. datasecurtityproject\\NetworkSecurityMlopsProject\\Network_Data\\phisingData.csv\")\n",
    "data.reset_index(drop=True,inplace=True)\n",
    "records=list(json.loads(data.T.to_json()).values())"
   ]
  },
  {
   "cell_type": "code",
   "execution_count": null,
   "id": "640a83eb",
   "metadata": {},
   "outputs": [],
   "source": []
  }
 ],
 "metadata": {
  "kernelspec": {
   "display_name": "Python 3",
   "language": "python",
   "name": "python3"
  },
  "language_info": {
   "codemirror_mode": {
    "name": "ipython",
    "version": 3
   },
   "file_extension": ".py",
   "mimetype": "text/x-python",
   "name": "python",
   "nbconvert_exporter": "python",
   "pygments_lexer": "ipython3",
   "version": "3.10.0"
  }
 },
 "nbformat": 4,
 "nbformat_minor": 5
}
